{
 "cells": [
  {
   "cell_type": "markdown",
   "id": "84de0d81",
   "metadata": {},
   "source": [
    "1. First, get to know Dr. Ignaz Semmelweis\n",
    "\n",
    "This is Dr. Ignaz Semmelweis, a physician from Hungary who works at the Vienna General Hospital and was born in 1818. It's likely that Dr. Semmelweis is thinking about childbed fever, a fatal illness that affects mothers who have recently given birth, if he appears distressed. He is considering it since, at the Vienna General Hospital in the early 1840s, up to 10% of women who give birth pass away from it. He is considering it since he is aware that the contaminated hands of the medical professionals who deliver the kids are the root cause of childbed fever. And they refuse to wash their hands and pay attention to him!"
   ]
  },
  {
   "cell_type": "code",
   "execution_count": null,
   "id": "1ac937b7",
   "metadata": {},
   "outputs": [
    {
     "ename": "",
     "evalue": "",
     "output_type": "error",
     "traceback": [
      "\u001b[1;31mRunning cells with 'Python 3.13.6' requires the ipykernel package.\n",
      "\u001b[1;31m<a href='command:jupyter.createPythonEnvAndSelectController'>Create a Python Environment</a> with the required packages."
     ]
    }
   ],
   "source": [
    "# importing modules\n",
    "import pandas as pd\n",
    "\n",
    "# Read datasets/yearly_deaths_by_clinic.csv into yearly\n",
    "yearly = pd.read_csv('datasets/yearly_deaths_by_clinic.csv')\n",
    "\n",
    "# Print out yearly\n",
    "print(yearly)"
   ]
  }
 ],
 "metadata": {
  "kernelspec": {
   "display_name": "Python 3",
   "language": "python",
   "name": "python3"
  },
  "language_info": {
   "name": "python",
   "version": "3.13.6"
  }
 },
 "nbformat": 4,
 "nbformat_minor": 5
}
